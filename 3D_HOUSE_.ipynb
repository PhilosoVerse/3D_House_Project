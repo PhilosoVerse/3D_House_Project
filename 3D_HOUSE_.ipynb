{
 "cells": [
  {
   "cell_type": "code",
   "execution_count": 76,
   "metadata": {},
   "outputs": [],
   "source": [
    "######## PLOTTING USING 39000+ TILES DICTIONAIRY #############################################\n",
    "\n",
    "import rasterio\n",
    "import plotly.graph_objects as go\n",
    "from plotly.subplots import make_subplots\n",
    "from rasterio.plot import show\n",
    "from rasterio.plot import show_hist\n",
    "from rasterio.mask import mask\n",
    "from shapely.geometry import box\n",
    "from shapely.geometry import Polygon\n",
    "import geopandas as gpd\n",
    "from fiona.crs import from_epsg\n",
    "import numpy as np\n",
    "import pandas as pd\n",
    "import shapefile as shp\n",
    "import matplotlib.pyplot as plt\n",
    "import geopandas as gpd\n",
    "import requests\n",
    "import json\n",
    "import os\n",
    "from rasterio.transform import from_bounds\n",
    "import gdal\n",
    "import shapely\n",
    "import re\n",
    "import rasterio\n",
    "from rasterio.plot import show\n",
    "from rasterio import plot\n",
    "# import richdem as rd\n",
    "# import geopy\n",
    "from shapely.geometry import point\n",
    "from PIL import Image\n",
    "import rasterio as rio\n",
    "from rasterio.plot import show\n",
    "#import pycrs"
   ]
  },
  {
   "cell_type": "code",
   "execution_count": 77,
   "metadata": {},
   "outputs": [
    {
     "name": "stdout",
     "output_type": "stream",
     "text": [
      "x coordinaat =  159894.08\n",
      "y coordinaat =  220174.04\n"
     ]
    }
   ],
   "source": [
    "# find coordinates of address you are searching\n",
    "\n",
    "#address = \"Sint-Pietersvliet 7, 2000 Antwerpen\"  \n",
    "#address = \"Francis Wellesplein 1, 2018 Antwerpen\" \n",
    "#address = \"Eigenaarsstraat 13, 2350 Vosselaar\"  \n",
    "#address = \"De Keyserlei 50, 2000 Antwerpen\"\n",
    "#address = \"Narcislaan 13, 2900 Schoten\" \n",
    "#address = \"Werverbos 78, 2930 Brasschaat\"\n",
    "#address = \"Pareloesterlaan 15, 8400 Oostende\"\n",
    "address = \"De Tomermaat 25, 2930 Brasschaat\" \n",
    "#address = \"Huidevetterslaan 10, 3500 Hasselt\" \n",
    "#address = \"Serafijnstraat 8, 9000 Gent\" \n",
    "#address = \"Veldstraat 45, 9630 Zwalm\" \n",
    "\n",
    "def get_coordinates(address: str) -> (int, int):\n",
    "    req = requests.get(f\"http://loc.geopunt.be/geolocation/location?q={address}&c=1\")\n",
    "    return (req.json()[\"LocationResult\"][0][\"Location\"][\"X_Lambert72\"],\n",
    "            req.json()[\"LocationResult\"][0][\"Location\"][\"Y_Lambert72\"])\n",
    "\n",
    "\n",
    "coordinaten = get_coordinates(address)\n",
    "x = coordinaten[0]\n",
    "y = coordinaten[1]\n",
    "print(\"x coordinaat = \", coordinaten[0])  # X\n",
    "print(\"y coordinaat = \", coordinaten[1])  # Y"
   ]
  },
  {
   "cell_type": "code",
   "execution_count": 78,
   "metadata": {},
   "outputs": [],
   "source": [
    "#read the boundvalues from the CSV into pandas framework\n",
    "path=\"D:\\\\PROJECT_BECODE\\\\bounds_full.csv\"\n",
    "\n",
    "boundaries = pd.read_csv(path, index_col=0)\n",
    "\n",
    "boundaries.columns = [\"Left\", \"Bottom\", \"Right\", \"Top\"] #make columns names\n",
    "\n",
    "boundaries[\"Left\"] = boundaries[\"Left\"].apply(lambda x : x[1:]) #remove '('\n",
    "boundaries[\"Left\"] = pd.to_numeric(boundaries[\"Left\"]) #filling in the columns #to numeric becuase you can't calculate with strings\n",
    "boundaries[\"Bottom\"] = pd.to_numeric(boundaries[\"Bottom\"]) #filling in the columns\n",
    "boundaries[\"Right\"] = pd.to_numeric(boundaries[\"Right\"]) #filling in the columns\n",
    "boundaries[\"Top\"] = boundaries[\"Top\"].apply(lambda x : x[:-1]) #remove ')'\n",
    "boundaries[\"Top\"] = pd.to_numeric(boundaries[\"Top\"]) #filling in the columns\n",
    "\n",
    "#boundaries.head()\n"
   ]
  },
  {
   "cell_type": "code",
   "execution_count": 79,
   "metadata": {},
   "outputs": [
    {
     "name": "stdout",
     "output_type": "stream",
     "text": [
      "tile number -> 4175\n",
      "left  159000.0\n",
      "right  160000.0\n",
      "bottom  220000.0\n",
      "top  220500.0\n"
     ]
    }
   ],
   "source": [
    "#compare coordinate values to values of pandaframe\n",
    "\n",
    "path = \"\"\n",
    "\n",
    "for i in range(1, 39294): #loop over all the bound-values of te tiff files out of the csv in the pandas framework\n",
    "        left = boundaries.iloc[i][\"Left\"]\n",
    "        right = boundaries.iloc[i][\"Right\"]\n",
    "        bottom = boundaries.iloc[i][\"Bottom\"]\n",
    "        top = boundaries.iloc[i][\"Top\"]\n",
    "        #print(\"tile \",i, \" --->\", left , \" \", right, \" \", bottom, \" \", top)\n",
    "\n",
    "        if x > left and x < right and y > bottom and y < top: #check if coordinates are in the bounds\n",
    "            print(\"tile number ->\" , i)\n",
    "            print(\"left \" , left)\n",
    "            print(\"right \", right)\n",
    "            print(\"bottom \" , bottom)\n",
    "            print(\"top \", top)\n",
    "\n",
    "            \n",
    "            path = \"D:\\\\PROJECT_BECODE\\\\DSM_split\\\\tile_{}.tif\".format(i+2) #is always 2 tiff files to short for some reason\n",
    "            #rasterio.plot.show(file) \n",
    "            break\n",
    "            \n",
    "            \n",
    "            #################### PROJECT HOUSE #################################################\"\"\n",
    "\n",
    "            data = rio.open(path)\n",
    "            address_regx = re.compile(\"^([A-z- ]+)\\s(\\d+),\\s(\\d+)\\s([A-z]+)\")\n",
    "            result = address_regx.search(address)\n",
    "            street = result.group(1)\n",
    "            print(street)\n",
    "            nb = result.group(2)\n",
    "            print(nb)\n",
    "            pc = result.group(3)\n",
    "            print(pc)\n",
    "            city = result.group(4)\n",
    "            print(city)\n",
    "\n",
    "            req = requests.get(f\"https://api.basisregisters.dev-vlaanderen.be/v1/adresmatch?gemeentenaam={city}&straatnaam={street}&huisnummer={nb}&postcode={pc}\").json()\n",
    "            objectId = req[\"adresMatches\"][0][\"adresseerbareObjecten\"][0][\"objectId\"]\n",
    "\n",
    "            req = requests.get(f\"https://api.basisregisters.dev-vlaanderen.be/v1/gebouweenheden/{objectId}\").json()\n",
    "            objectId = req[\"gebouw\"][\"objectId\"]\n",
    "\n",
    "            req = requests.get(f\"https://api.basisregisters.dev-vlaanderen.be/v1/gebouwen/{objectId}\").json()\n",
    "            polygon = [req[\"geometriePolygoon\"][\"polygon\"]] \n",
    "            print(\"polygon -> \", polygon)\n",
    "        \n",
    "            crop_img, crop_transform = mask(dataset=data, shapes=polygon, crop=True, indexes=1, nodata = 0, filled=True)\n",
    "            print(\"crop image -> \" , crop_img)\n",
    "\n",
    "            fig = go.Figure(data=go.Surface(z=crop_img, colorscale='YlOrRd'))\n",
    "            fig.show()\n",
    "\n",
    "            #break\n",
    "\n",
    "\n",
    "            "
   ]
  },
  {
   "cell_type": "code",
   "execution_count": 80,
   "metadata": {},
   "outputs": [
    {
     "name": "stdout",
     "output_type": "stream",
     "text": [
      "De Tomermaat\n",
      "25\n",
      "2930\n",
      "Brasschaat\n",
      "polygon ->  [{'coordinates': [[[159902.5781300962, 220172.94562679157], [159901.24846609682, 220178.7261067927], [159887.56117008626, 220175.60956279188], [159886.16238608956, 220175.2910987921], [159886.31854608655, 220174.64546679333], [159886.10760208964, 220173.9399307929], [159885.90894608945, 220172.7244427912], [159885.8592820838, 220171.50281079113], [159886.06817808747, 220170.28629878908], [159887.1582260877, 220170.54639478773], [159887.40501008928, 220169.49116278812], [159902.5781300962, 220172.94562679157]]], 'type': 'Polygon'}]\n",
      "crop image ->  [[ 0.    0.    0.    0.    0.    0.    0.    0.    0.    0.    0.    0.\n",
      "   0.    0.    0.   20.13  0.    0.  ]\n",
      " [ 0.    0.    0.    0.    0.    0.    0.    0.    0.    0.    0.   20.93\n",
      "  20.9  21.55 21.46 20.85 16.43  0.  ]\n",
      " [ 0.    0.    0.    0.    0.    0.   21.16 20.92 20.93 20.94 21.27 21.36\n",
      "  21.25 21.16 21.05 20.91 20.65  0.  ]\n",
      " [ 0.    0.   16.95 20.75 21.28 21.09 21.4  21.32 21.23 21.09 20.91 20.97\n",
      "  20.97 20.96 20.93 20.92 17.28  0.  ]\n",
      " [ 0.   15.05 15.05 19.03 21.18 21.11 21.03 20.96 20.91 21.13 20.92 20.95\n",
      "  20.95 20.98 20.95 20.92 20.96  0.  ]\n",
      " [ 0.   15.76 15.19 16.63 20.9  20.9  20.92 20.91 20.91 21.11 20.93 20.95\n",
      "  21.58 21.14 21.37 21.31 17.42  0.  ]\n",
      " [ 0.   15.06 15.03 15.07 20.89 20.93 20.93 21.56 20.92 20.95 20.96 20.96\n",
      "  21.2  20.98 21.01 20.99  0.    0.  ]\n",
      " [ 0.   15.05 15.06 15.08 20.9  21.39 21.27 21.19 20.91 20.93 20.99  0.\n",
      "   0.    0.    0.    0.    0.    0.  ]\n",
      " [ 0.   15.31 16.12 15.07 20.91 20.93 20.91  0.    0.    0.    0.    0.\n",
      "   0.    0.    0.    0.    0.    0.  ]\n",
      " [ 0.    0.    0.    0.    0.    0.    0.    0.    0.    0.    0.    0.\n",
      "   0.    0.    0.    0.    0.    0.  ]]\n"
     ]
    },
    {
     "data": {
      "application/vnd.plotly.v1+json": {
       "config": {
        "plotlyServerURL": "https://plot.ly"
       },
       "data": [
        {
         "colorscale": [
          [
           0,
           "rgb(255,255,204)"
          ],
          [
           0.125,
           "rgb(255,237,160)"
          ],
          [
           0.25,
           "rgb(254,217,118)"
          ],
          [
           0.375,
           "rgb(254,178,76)"
          ],
          [
           0.5,
           "rgb(253,141,60)"
          ],
          [
           0.625,
           "rgb(252,78,42)"
          ],
          [
           0.75,
           "rgb(227,26,28)"
          ],
          [
           0.875,
           "rgb(189,0,38)"
          ],
          [
           1,
           "rgb(128,0,38)"
          ]
         ],
         "type": "surface",
         "z": [
          [
           0,
           0,
           0,
           0,
           0,
           0,
           0,
           0,
           0,
           0,
           0,
           0,
           0,
           0,
           0,
           20.1299991607666,
           0,
           0
          ],
          [
           0,
           0,
           0,
           0,
           0,
           0,
           0,
           0,
           0,
           0,
           0,
           20.93000030517578,
           20.899999618530273,
           21.549999237060547,
           21.459999084472656,
           20.850000381469727,
           16.43000030517578,
           0
          ],
          [
           0,
           0,
           0,
           0,
           0,
           0,
           21.15999984741211,
           20.920000076293945,
           20.93000030517578,
           20.940000534057617,
           21.270000457763672,
           21.360000610351562,
           21.25,
           21.15999984741211,
           21.049999237060547,
           20.90999984741211,
           20.649999618530273,
           0
          ],
          [
           0,
           0,
           16.950000762939453,
           20.75,
           21.280000686645508,
           21.09000015258789,
           21.399999618530273,
           21.31999969482422,
           21.229999542236328,
           21.09000015258789,
           20.90999984741211,
           20.969999313354492,
           20.969999313354492,
           20.959999084472656,
           20.93000030517578,
           20.920000076293945,
           17.280000686645508,
           0
          ],
          [
           0,
           15.050000190734863,
           15.050000190734863,
           19.030000686645508,
           21.18000030517578,
           21.110000610351562,
           21.030000686645508,
           20.959999084472656,
           20.90999984741211,
           21.1299991607666,
           20.920000076293945,
           20.950000762939453,
           20.950000762939453,
           20.979999542236328,
           20.950000762939453,
           20.920000076293945,
           20.959999084472656,
           0
          ],
          [
           0,
           15.760000228881836,
           15.1899995803833,
           16.6299991607666,
           20.899999618530273,
           20.899999618530273,
           20.920000076293945,
           20.90999984741211,
           20.90999984741211,
           21.110000610351562,
           20.93000030517578,
           20.950000762939453,
           21.579999923706055,
           21.139999389648438,
           21.3700008392334,
           21.309999465942383,
           17.420000076293945,
           0
          ],
          [
           0,
           15.0600004196167,
           15.029999732971191,
           15.069999694824219,
           20.889999389648438,
           20.93000030517578,
           20.93000030517578,
           21.559999465942383,
           20.920000076293945,
           20.950000762939453,
           20.959999084472656,
           20.959999084472656,
           21.200000762939453,
           20.979999542236328,
           21.010000228881836,
           20.989999771118164,
           0,
           0
          ],
          [
           0,
           15.050000190734863,
           15.0600004196167,
           15.079999923706055,
           20.899999618530273,
           21.389999389648438,
           21.270000457763672,
           21.190000534057617,
           20.90999984741211,
           20.93000030517578,
           20.989999771118164,
           0,
           0,
           0,
           0,
           0,
           0,
           0
          ],
          [
           0,
           15.3100004196167,
           16.1200008392334,
           15.069999694824219,
           20.90999984741211,
           20.93000030517578,
           20.90999984741211,
           0,
           0,
           0,
           0,
           0,
           0,
           0,
           0,
           0,
           0,
           0
          ],
          [
           0,
           0,
           0,
           0,
           0,
           0,
           0,
           0,
           0,
           0,
           0,
           0,
           0,
           0,
           0,
           0,
           0,
           0
          ]
         ]
        }
       ],
       "layout": {
        "template": {
         "data": {
          "bar": [
           {
            "error_x": {
             "color": "#2a3f5f"
            },
            "error_y": {
             "color": "#2a3f5f"
            },
            "marker": {
             "line": {
              "color": "#E5ECF6",
              "width": 0.5
             }
            },
            "type": "bar"
           }
          ],
          "barpolar": [
           {
            "marker": {
             "line": {
              "color": "#E5ECF6",
              "width": 0.5
             }
            },
            "type": "barpolar"
           }
          ],
          "carpet": [
           {
            "aaxis": {
             "endlinecolor": "#2a3f5f",
             "gridcolor": "white",
             "linecolor": "white",
             "minorgridcolor": "white",
             "startlinecolor": "#2a3f5f"
            },
            "baxis": {
             "endlinecolor": "#2a3f5f",
             "gridcolor": "white",
             "linecolor": "white",
             "minorgridcolor": "white",
             "startlinecolor": "#2a3f5f"
            },
            "type": "carpet"
           }
          ],
          "choropleth": [
           {
            "colorbar": {
             "outlinewidth": 0,
             "ticks": ""
            },
            "type": "choropleth"
           }
          ],
          "contour": [
           {
            "colorbar": {
             "outlinewidth": 0,
             "ticks": ""
            },
            "colorscale": [
             [
              0,
              "#0d0887"
             ],
             [
              0.1111111111111111,
              "#46039f"
             ],
             [
              0.2222222222222222,
              "#7201a8"
             ],
             [
              0.3333333333333333,
              "#9c179e"
             ],
             [
              0.4444444444444444,
              "#bd3786"
             ],
             [
              0.5555555555555556,
              "#d8576b"
             ],
             [
              0.6666666666666666,
              "#ed7953"
             ],
             [
              0.7777777777777778,
              "#fb9f3a"
             ],
             [
              0.8888888888888888,
              "#fdca26"
             ],
             [
              1,
              "#f0f921"
             ]
            ],
            "type": "contour"
           }
          ],
          "contourcarpet": [
           {
            "colorbar": {
             "outlinewidth": 0,
             "ticks": ""
            },
            "type": "contourcarpet"
           }
          ],
          "heatmap": [
           {
            "colorbar": {
             "outlinewidth": 0,
             "ticks": ""
            },
            "colorscale": [
             [
              0,
              "#0d0887"
             ],
             [
              0.1111111111111111,
              "#46039f"
             ],
             [
              0.2222222222222222,
              "#7201a8"
             ],
             [
              0.3333333333333333,
              "#9c179e"
             ],
             [
              0.4444444444444444,
              "#bd3786"
             ],
             [
              0.5555555555555556,
              "#d8576b"
             ],
             [
              0.6666666666666666,
              "#ed7953"
             ],
             [
              0.7777777777777778,
              "#fb9f3a"
             ],
             [
              0.8888888888888888,
              "#fdca26"
             ],
             [
              1,
              "#f0f921"
             ]
            ],
            "type": "heatmap"
           }
          ],
          "heatmapgl": [
           {
            "colorbar": {
             "outlinewidth": 0,
             "ticks": ""
            },
            "colorscale": [
             [
              0,
              "#0d0887"
             ],
             [
              0.1111111111111111,
              "#46039f"
             ],
             [
              0.2222222222222222,
              "#7201a8"
             ],
             [
              0.3333333333333333,
              "#9c179e"
             ],
             [
              0.4444444444444444,
              "#bd3786"
             ],
             [
              0.5555555555555556,
              "#d8576b"
             ],
             [
              0.6666666666666666,
              "#ed7953"
             ],
             [
              0.7777777777777778,
              "#fb9f3a"
             ],
             [
              0.8888888888888888,
              "#fdca26"
             ],
             [
              1,
              "#f0f921"
             ]
            ],
            "type": "heatmapgl"
           }
          ],
          "histogram": [
           {
            "marker": {
             "colorbar": {
              "outlinewidth": 0,
              "ticks": ""
             }
            },
            "type": "histogram"
           }
          ],
          "histogram2d": [
           {
            "colorbar": {
             "outlinewidth": 0,
             "ticks": ""
            },
            "colorscale": [
             [
              0,
              "#0d0887"
             ],
             [
              0.1111111111111111,
              "#46039f"
             ],
             [
              0.2222222222222222,
              "#7201a8"
             ],
             [
              0.3333333333333333,
              "#9c179e"
             ],
             [
              0.4444444444444444,
              "#bd3786"
             ],
             [
              0.5555555555555556,
              "#d8576b"
             ],
             [
              0.6666666666666666,
              "#ed7953"
             ],
             [
              0.7777777777777778,
              "#fb9f3a"
             ],
             [
              0.8888888888888888,
              "#fdca26"
             ],
             [
              1,
              "#f0f921"
             ]
            ],
            "type": "histogram2d"
           }
          ],
          "histogram2dcontour": [
           {
            "colorbar": {
             "outlinewidth": 0,
             "ticks": ""
            },
            "colorscale": [
             [
              0,
              "#0d0887"
             ],
             [
              0.1111111111111111,
              "#46039f"
             ],
             [
              0.2222222222222222,
              "#7201a8"
             ],
             [
              0.3333333333333333,
              "#9c179e"
             ],
             [
              0.4444444444444444,
              "#bd3786"
             ],
             [
              0.5555555555555556,
              "#d8576b"
             ],
             [
              0.6666666666666666,
              "#ed7953"
             ],
             [
              0.7777777777777778,
              "#fb9f3a"
             ],
             [
              0.8888888888888888,
              "#fdca26"
             ],
             [
              1,
              "#f0f921"
             ]
            ],
            "type": "histogram2dcontour"
           }
          ],
          "mesh3d": [
           {
            "colorbar": {
             "outlinewidth": 0,
             "ticks": ""
            },
            "type": "mesh3d"
           }
          ],
          "parcoords": [
           {
            "line": {
             "colorbar": {
              "outlinewidth": 0,
              "ticks": ""
             }
            },
            "type": "parcoords"
           }
          ],
          "pie": [
           {
            "automargin": true,
            "type": "pie"
           }
          ],
          "scatter": [
           {
            "marker": {
             "colorbar": {
              "outlinewidth": 0,
              "ticks": ""
             }
            },
            "type": "scatter"
           }
          ],
          "scatter3d": [
           {
            "line": {
             "colorbar": {
              "outlinewidth": 0,
              "ticks": ""
             }
            },
            "marker": {
             "colorbar": {
              "outlinewidth": 0,
              "ticks": ""
             }
            },
            "type": "scatter3d"
           }
          ],
          "scattercarpet": [
           {
            "marker": {
             "colorbar": {
              "outlinewidth": 0,
              "ticks": ""
             }
            },
            "type": "scattercarpet"
           }
          ],
          "scattergeo": [
           {
            "marker": {
             "colorbar": {
              "outlinewidth": 0,
              "ticks": ""
             }
            },
            "type": "scattergeo"
           }
          ],
          "scattergl": [
           {
            "marker": {
             "colorbar": {
              "outlinewidth": 0,
              "ticks": ""
             }
            },
            "type": "scattergl"
           }
          ],
          "scattermapbox": [
           {
            "marker": {
             "colorbar": {
              "outlinewidth": 0,
              "ticks": ""
             }
            },
            "type": "scattermapbox"
           }
          ],
          "scatterpolar": [
           {
            "marker": {
             "colorbar": {
              "outlinewidth": 0,
              "ticks": ""
             }
            },
            "type": "scatterpolar"
           }
          ],
          "scatterpolargl": [
           {
            "marker": {
             "colorbar": {
              "outlinewidth": 0,
              "ticks": ""
             }
            },
            "type": "scatterpolargl"
           }
          ],
          "scatterternary": [
           {
            "marker": {
             "colorbar": {
              "outlinewidth": 0,
              "ticks": ""
             }
            },
            "type": "scatterternary"
           }
          ],
          "surface": [
           {
            "colorbar": {
             "outlinewidth": 0,
             "ticks": ""
            },
            "colorscale": [
             [
              0,
              "#0d0887"
             ],
             [
              0.1111111111111111,
              "#46039f"
             ],
             [
              0.2222222222222222,
              "#7201a8"
             ],
             [
              0.3333333333333333,
              "#9c179e"
             ],
             [
              0.4444444444444444,
              "#bd3786"
             ],
             [
              0.5555555555555556,
              "#d8576b"
             ],
             [
              0.6666666666666666,
              "#ed7953"
             ],
             [
              0.7777777777777778,
              "#fb9f3a"
             ],
             [
              0.8888888888888888,
              "#fdca26"
             ],
             [
              1,
              "#f0f921"
             ]
            ],
            "type": "surface"
           }
          ],
          "table": [
           {
            "cells": {
             "fill": {
              "color": "#EBF0F8"
             },
             "line": {
              "color": "white"
             }
            },
            "header": {
             "fill": {
              "color": "#C8D4E3"
             },
             "line": {
              "color": "white"
             }
            },
            "type": "table"
           }
          ]
         },
         "layout": {
          "annotationdefaults": {
           "arrowcolor": "#2a3f5f",
           "arrowhead": 0,
           "arrowwidth": 1
          },
          "coloraxis": {
           "colorbar": {
            "outlinewidth": 0,
            "ticks": ""
           }
          },
          "colorscale": {
           "diverging": [
            [
             0,
             "#8e0152"
            ],
            [
             0.1,
             "#c51b7d"
            ],
            [
             0.2,
             "#de77ae"
            ],
            [
             0.3,
             "#f1b6da"
            ],
            [
             0.4,
             "#fde0ef"
            ],
            [
             0.5,
             "#f7f7f7"
            ],
            [
             0.6,
             "#e6f5d0"
            ],
            [
             0.7,
             "#b8e186"
            ],
            [
             0.8,
             "#7fbc41"
            ],
            [
             0.9,
             "#4d9221"
            ],
            [
             1,
             "#276419"
            ]
           ],
           "sequential": [
            [
             0,
             "#0d0887"
            ],
            [
             0.1111111111111111,
             "#46039f"
            ],
            [
             0.2222222222222222,
             "#7201a8"
            ],
            [
             0.3333333333333333,
             "#9c179e"
            ],
            [
             0.4444444444444444,
             "#bd3786"
            ],
            [
             0.5555555555555556,
             "#d8576b"
            ],
            [
             0.6666666666666666,
             "#ed7953"
            ],
            [
             0.7777777777777778,
             "#fb9f3a"
            ],
            [
             0.8888888888888888,
             "#fdca26"
            ],
            [
             1,
             "#f0f921"
            ]
           ],
           "sequentialminus": [
            [
             0,
             "#0d0887"
            ],
            [
             0.1111111111111111,
             "#46039f"
            ],
            [
             0.2222222222222222,
             "#7201a8"
            ],
            [
             0.3333333333333333,
             "#9c179e"
            ],
            [
             0.4444444444444444,
             "#bd3786"
            ],
            [
             0.5555555555555556,
             "#d8576b"
            ],
            [
             0.6666666666666666,
             "#ed7953"
            ],
            [
             0.7777777777777778,
             "#fb9f3a"
            ],
            [
             0.8888888888888888,
             "#fdca26"
            ],
            [
             1,
             "#f0f921"
            ]
           ]
          },
          "colorway": [
           "#636efa",
           "#EF553B",
           "#00cc96",
           "#ab63fa",
           "#FFA15A",
           "#19d3f3",
           "#FF6692",
           "#B6E880",
           "#FF97FF",
           "#FECB52"
          ],
          "font": {
           "color": "#2a3f5f"
          },
          "geo": {
           "bgcolor": "white",
           "lakecolor": "white",
           "landcolor": "#E5ECF6",
           "showlakes": true,
           "showland": true,
           "subunitcolor": "white"
          },
          "hoverlabel": {
           "align": "left"
          },
          "hovermode": "closest",
          "mapbox": {
           "style": "light"
          },
          "paper_bgcolor": "white",
          "plot_bgcolor": "#E5ECF6",
          "polar": {
           "angularaxis": {
            "gridcolor": "white",
            "linecolor": "white",
            "ticks": ""
           },
           "bgcolor": "#E5ECF6",
           "radialaxis": {
            "gridcolor": "white",
            "linecolor": "white",
            "ticks": ""
           }
          },
          "scene": {
           "xaxis": {
            "backgroundcolor": "#E5ECF6",
            "gridcolor": "white",
            "gridwidth": 2,
            "linecolor": "white",
            "showbackground": true,
            "ticks": "",
            "zerolinecolor": "white"
           },
           "yaxis": {
            "backgroundcolor": "#E5ECF6",
            "gridcolor": "white",
            "gridwidth": 2,
            "linecolor": "white",
            "showbackground": true,
            "ticks": "",
            "zerolinecolor": "white"
           },
           "zaxis": {
            "backgroundcolor": "#E5ECF6",
            "gridcolor": "white",
            "gridwidth": 2,
            "linecolor": "white",
            "showbackground": true,
            "ticks": "",
            "zerolinecolor": "white"
           }
          },
          "shapedefaults": {
           "line": {
            "color": "#2a3f5f"
           }
          },
          "ternary": {
           "aaxis": {
            "gridcolor": "white",
            "linecolor": "white",
            "ticks": ""
           },
           "baxis": {
            "gridcolor": "white",
            "linecolor": "white",
            "ticks": ""
           },
           "bgcolor": "#E5ECF6",
           "caxis": {
            "gridcolor": "white",
            "linecolor": "white",
            "ticks": ""
           }
          },
          "title": {
           "x": 0.05
          },
          "xaxis": {
           "automargin": true,
           "gridcolor": "white",
           "linecolor": "white",
           "ticks": "",
           "title": {
            "standoff": 15
           },
           "zerolinecolor": "white",
           "zerolinewidth": 2
          },
          "yaxis": {
           "automargin": true,
           "gridcolor": "white",
           "linecolor": "white",
           "ticks": "",
           "title": {
            "standoff": 15
           },
           "zerolinecolor": "white",
           "zerolinewidth": 2
          }
         }
        }
       }
      },
      "text/html": [
       "<div>\n",
       "        \n",
       "        \n",
       "            <div id=\"5137bb49-cdb6-4d5f-b5d5-cb426ea90952\" class=\"plotly-graph-div\" style=\"height:525px; width:100%;\"></div>\n",
       "            <script type=\"text/javascript\">\n",
       "                require([\"plotly\"], function(Plotly) {\n",
       "                    window.PLOTLYENV=window.PLOTLYENV || {};\n",
       "                    \n",
       "                if (document.getElementById(\"5137bb49-cdb6-4d5f-b5d5-cb426ea90952\")) {\n",
       "                    Plotly.newPlot(\n",
       "                        '5137bb49-cdb6-4d5f-b5d5-cb426ea90952',\n",
       "                        [{\"colorscale\": [[0.0, \"rgb(255,255,204)\"], [0.125, \"rgb(255,237,160)\"], [0.25, \"rgb(254,217,118)\"], [0.375, \"rgb(254,178,76)\"], [0.5, \"rgb(253,141,60)\"], [0.625, \"rgb(252,78,42)\"], [0.75, \"rgb(227,26,28)\"], [0.875, \"rgb(189,0,38)\"], [1.0, \"rgb(128,0,38)\"]], \"type\": \"surface\", \"z\": [[0.0, 0.0, 0.0, 0.0, 0.0, 0.0, 0.0, 0.0, 0.0, 0.0, 0.0, 0.0, 0.0, 0.0, 0.0, 20.1299991607666, 0.0, 0.0], [0.0, 0.0, 0.0, 0.0, 0.0, 0.0, 0.0, 0.0, 0.0, 0.0, 0.0, 20.93000030517578, 20.899999618530273, 21.549999237060547, 21.459999084472656, 20.850000381469727, 16.43000030517578, 0.0], [0.0, 0.0, 0.0, 0.0, 0.0, 0.0, 21.15999984741211, 20.920000076293945, 20.93000030517578, 20.940000534057617, 21.270000457763672, 21.360000610351562, 21.25, 21.15999984741211, 21.049999237060547, 20.90999984741211, 20.649999618530273, 0.0], [0.0, 0.0, 16.950000762939453, 20.75, 21.280000686645508, 21.09000015258789, 21.399999618530273, 21.31999969482422, 21.229999542236328, 21.09000015258789, 20.90999984741211, 20.969999313354492, 20.969999313354492, 20.959999084472656, 20.93000030517578, 20.920000076293945, 17.280000686645508, 0.0], [0.0, 15.050000190734863, 15.050000190734863, 19.030000686645508, 21.18000030517578, 21.110000610351562, 21.030000686645508, 20.959999084472656, 20.90999984741211, 21.1299991607666, 20.920000076293945, 20.950000762939453, 20.950000762939453, 20.979999542236328, 20.950000762939453, 20.920000076293945, 20.959999084472656, 0.0], [0.0, 15.760000228881836, 15.1899995803833, 16.6299991607666, 20.899999618530273, 20.899999618530273, 20.920000076293945, 20.90999984741211, 20.90999984741211, 21.110000610351562, 20.93000030517578, 20.950000762939453, 21.579999923706055, 21.139999389648438, 21.3700008392334, 21.309999465942383, 17.420000076293945, 0.0], [0.0, 15.0600004196167, 15.029999732971191, 15.069999694824219, 20.889999389648438, 20.93000030517578, 20.93000030517578, 21.559999465942383, 20.920000076293945, 20.950000762939453, 20.959999084472656, 20.959999084472656, 21.200000762939453, 20.979999542236328, 21.010000228881836, 20.989999771118164, 0.0, 0.0], [0.0, 15.050000190734863, 15.0600004196167, 15.079999923706055, 20.899999618530273, 21.389999389648438, 21.270000457763672, 21.190000534057617, 20.90999984741211, 20.93000030517578, 20.989999771118164, 0.0, 0.0, 0.0, 0.0, 0.0, 0.0, 0.0], [0.0, 15.3100004196167, 16.1200008392334, 15.069999694824219, 20.90999984741211, 20.93000030517578, 20.90999984741211, 0.0, 0.0, 0.0, 0.0, 0.0, 0.0, 0.0, 0.0, 0.0, 0.0, 0.0], [0.0, 0.0, 0.0, 0.0, 0.0, 0.0, 0.0, 0.0, 0.0, 0.0, 0.0, 0.0, 0.0, 0.0, 0.0, 0.0, 0.0, 0.0]]}],\n",
       "                        {\"template\": {\"data\": {\"bar\": [{\"error_x\": {\"color\": \"#2a3f5f\"}, \"error_y\": {\"color\": \"#2a3f5f\"}, \"marker\": {\"line\": {\"color\": \"#E5ECF6\", \"width\": 0.5}}, \"type\": \"bar\"}], \"barpolar\": [{\"marker\": {\"line\": {\"color\": \"#E5ECF6\", \"width\": 0.5}}, \"type\": \"barpolar\"}], \"carpet\": [{\"aaxis\": {\"endlinecolor\": \"#2a3f5f\", \"gridcolor\": \"white\", \"linecolor\": \"white\", \"minorgridcolor\": \"white\", \"startlinecolor\": \"#2a3f5f\"}, \"baxis\": {\"endlinecolor\": \"#2a3f5f\", \"gridcolor\": \"white\", \"linecolor\": \"white\", \"minorgridcolor\": \"white\", \"startlinecolor\": \"#2a3f5f\"}, \"type\": \"carpet\"}], \"choropleth\": [{\"colorbar\": {\"outlinewidth\": 0, \"ticks\": \"\"}, \"type\": \"choropleth\"}], \"contour\": [{\"colorbar\": {\"outlinewidth\": 0, \"ticks\": \"\"}, \"colorscale\": [[0.0, \"#0d0887\"], [0.1111111111111111, \"#46039f\"], [0.2222222222222222, \"#7201a8\"], [0.3333333333333333, \"#9c179e\"], [0.4444444444444444, \"#bd3786\"], [0.5555555555555556, \"#d8576b\"], [0.6666666666666666, \"#ed7953\"], [0.7777777777777778, \"#fb9f3a\"], [0.8888888888888888, \"#fdca26\"], [1.0, \"#f0f921\"]], \"type\": \"contour\"}], \"contourcarpet\": [{\"colorbar\": {\"outlinewidth\": 0, \"ticks\": \"\"}, \"type\": \"contourcarpet\"}], \"heatmap\": [{\"colorbar\": {\"outlinewidth\": 0, \"ticks\": \"\"}, \"colorscale\": [[0.0, \"#0d0887\"], [0.1111111111111111, \"#46039f\"], [0.2222222222222222, \"#7201a8\"], [0.3333333333333333, \"#9c179e\"], [0.4444444444444444, \"#bd3786\"], [0.5555555555555556, \"#d8576b\"], [0.6666666666666666, \"#ed7953\"], [0.7777777777777778, \"#fb9f3a\"], [0.8888888888888888, \"#fdca26\"], [1.0, \"#f0f921\"]], \"type\": \"heatmap\"}], \"heatmapgl\": [{\"colorbar\": {\"outlinewidth\": 0, \"ticks\": \"\"}, \"colorscale\": [[0.0, \"#0d0887\"], [0.1111111111111111, \"#46039f\"], [0.2222222222222222, \"#7201a8\"], [0.3333333333333333, \"#9c179e\"], [0.4444444444444444, \"#bd3786\"], [0.5555555555555556, \"#d8576b\"], [0.6666666666666666, \"#ed7953\"], [0.7777777777777778, \"#fb9f3a\"], [0.8888888888888888, \"#fdca26\"], [1.0, \"#f0f921\"]], \"type\": \"heatmapgl\"}], \"histogram\": [{\"marker\": {\"colorbar\": {\"outlinewidth\": 0, \"ticks\": \"\"}}, \"type\": \"histogram\"}], \"histogram2d\": [{\"colorbar\": {\"outlinewidth\": 0, \"ticks\": \"\"}, \"colorscale\": [[0.0, \"#0d0887\"], [0.1111111111111111, \"#46039f\"], [0.2222222222222222, \"#7201a8\"], [0.3333333333333333, \"#9c179e\"], [0.4444444444444444, \"#bd3786\"], [0.5555555555555556, \"#d8576b\"], [0.6666666666666666, \"#ed7953\"], [0.7777777777777778, \"#fb9f3a\"], [0.8888888888888888, \"#fdca26\"], [1.0, \"#f0f921\"]], \"type\": \"histogram2d\"}], \"histogram2dcontour\": [{\"colorbar\": {\"outlinewidth\": 0, \"ticks\": \"\"}, \"colorscale\": [[0.0, \"#0d0887\"], [0.1111111111111111, \"#46039f\"], [0.2222222222222222, \"#7201a8\"], [0.3333333333333333, \"#9c179e\"], [0.4444444444444444, \"#bd3786\"], [0.5555555555555556, \"#d8576b\"], [0.6666666666666666, \"#ed7953\"], [0.7777777777777778, \"#fb9f3a\"], [0.8888888888888888, \"#fdca26\"], [1.0, \"#f0f921\"]], \"type\": \"histogram2dcontour\"}], \"mesh3d\": [{\"colorbar\": {\"outlinewidth\": 0, \"ticks\": \"\"}, \"type\": \"mesh3d\"}], \"parcoords\": [{\"line\": {\"colorbar\": {\"outlinewidth\": 0, \"ticks\": \"\"}}, \"type\": \"parcoords\"}], \"pie\": [{\"automargin\": true, \"type\": \"pie\"}], \"scatter\": [{\"marker\": {\"colorbar\": {\"outlinewidth\": 0, \"ticks\": \"\"}}, \"type\": \"scatter\"}], \"scatter3d\": [{\"line\": {\"colorbar\": {\"outlinewidth\": 0, \"ticks\": \"\"}}, \"marker\": {\"colorbar\": {\"outlinewidth\": 0, \"ticks\": \"\"}}, \"type\": \"scatter3d\"}], \"scattercarpet\": [{\"marker\": {\"colorbar\": {\"outlinewidth\": 0, \"ticks\": \"\"}}, \"type\": \"scattercarpet\"}], \"scattergeo\": [{\"marker\": {\"colorbar\": {\"outlinewidth\": 0, \"ticks\": \"\"}}, \"type\": \"scattergeo\"}], \"scattergl\": [{\"marker\": {\"colorbar\": {\"outlinewidth\": 0, \"ticks\": \"\"}}, \"type\": \"scattergl\"}], \"scattermapbox\": [{\"marker\": {\"colorbar\": {\"outlinewidth\": 0, \"ticks\": \"\"}}, \"type\": \"scattermapbox\"}], \"scatterpolar\": [{\"marker\": {\"colorbar\": {\"outlinewidth\": 0, \"ticks\": \"\"}}, \"type\": \"scatterpolar\"}], \"scatterpolargl\": [{\"marker\": {\"colorbar\": {\"outlinewidth\": 0, \"ticks\": \"\"}}, \"type\": \"scatterpolargl\"}], \"scatterternary\": [{\"marker\": {\"colorbar\": {\"outlinewidth\": 0, \"ticks\": \"\"}}, \"type\": \"scatterternary\"}], \"surface\": [{\"colorbar\": {\"outlinewidth\": 0, \"ticks\": \"\"}, \"colorscale\": [[0.0, \"#0d0887\"], [0.1111111111111111, \"#46039f\"], [0.2222222222222222, \"#7201a8\"], [0.3333333333333333, \"#9c179e\"], [0.4444444444444444, \"#bd3786\"], [0.5555555555555556, \"#d8576b\"], [0.6666666666666666, \"#ed7953\"], [0.7777777777777778, \"#fb9f3a\"], [0.8888888888888888, \"#fdca26\"], [1.0, \"#f0f921\"]], \"type\": \"surface\"}], \"table\": [{\"cells\": {\"fill\": {\"color\": \"#EBF0F8\"}, \"line\": {\"color\": \"white\"}}, \"header\": {\"fill\": {\"color\": \"#C8D4E3\"}, \"line\": {\"color\": \"white\"}}, \"type\": \"table\"}]}, \"layout\": {\"annotationdefaults\": {\"arrowcolor\": \"#2a3f5f\", \"arrowhead\": 0, \"arrowwidth\": 1}, \"coloraxis\": {\"colorbar\": {\"outlinewidth\": 0, \"ticks\": \"\"}}, \"colorscale\": {\"diverging\": [[0, \"#8e0152\"], [0.1, \"#c51b7d\"], [0.2, \"#de77ae\"], [0.3, \"#f1b6da\"], [0.4, \"#fde0ef\"], [0.5, \"#f7f7f7\"], [0.6, \"#e6f5d0\"], [0.7, \"#b8e186\"], [0.8, \"#7fbc41\"], [0.9, \"#4d9221\"], [1, \"#276419\"]], \"sequential\": [[0.0, \"#0d0887\"], [0.1111111111111111, \"#46039f\"], [0.2222222222222222, \"#7201a8\"], [0.3333333333333333, \"#9c179e\"], [0.4444444444444444, \"#bd3786\"], [0.5555555555555556, \"#d8576b\"], [0.6666666666666666, \"#ed7953\"], [0.7777777777777778, \"#fb9f3a\"], [0.8888888888888888, \"#fdca26\"], [1.0, \"#f0f921\"]], \"sequentialminus\": [[0.0, \"#0d0887\"], [0.1111111111111111, \"#46039f\"], [0.2222222222222222, \"#7201a8\"], [0.3333333333333333, \"#9c179e\"], [0.4444444444444444, \"#bd3786\"], [0.5555555555555556, \"#d8576b\"], [0.6666666666666666, \"#ed7953\"], [0.7777777777777778, \"#fb9f3a\"], [0.8888888888888888, \"#fdca26\"], [1.0, \"#f0f921\"]]}, \"colorway\": [\"#636efa\", \"#EF553B\", \"#00cc96\", \"#ab63fa\", \"#FFA15A\", \"#19d3f3\", \"#FF6692\", \"#B6E880\", \"#FF97FF\", \"#FECB52\"], \"font\": {\"color\": \"#2a3f5f\"}, \"geo\": {\"bgcolor\": \"white\", \"lakecolor\": \"white\", \"landcolor\": \"#E5ECF6\", \"showlakes\": true, \"showland\": true, \"subunitcolor\": \"white\"}, \"hoverlabel\": {\"align\": \"left\"}, \"hovermode\": \"closest\", \"mapbox\": {\"style\": \"light\"}, \"paper_bgcolor\": \"white\", \"plot_bgcolor\": \"#E5ECF6\", \"polar\": {\"angularaxis\": {\"gridcolor\": \"white\", \"linecolor\": \"white\", \"ticks\": \"\"}, \"bgcolor\": \"#E5ECF6\", \"radialaxis\": {\"gridcolor\": \"white\", \"linecolor\": \"white\", \"ticks\": \"\"}}, \"scene\": {\"xaxis\": {\"backgroundcolor\": \"#E5ECF6\", \"gridcolor\": \"white\", \"gridwidth\": 2, \"linecolor\": \"white\", \"showbackground\": true, \"ticks\": \"\", \"zerolinecolor\": \"white\"}, \"yaxis\": {\"backgroundcolor\": \"#E5ECF6\", \"gridcolor\": \"white\", \"gridwidth\": 2, \"linecolor\": \"white\", \"showbackground\": true, \"ticks\": \"\", \"zerolinecolor\": \"white\"}, \"zaxis\": {\"backgroundcolor\": \"#E5ECF6\", \"gridcolor\": \"white\", \"gridwidth\": 2, \"linecolor\": \"white\", \"showbackground\": true, \"ticks\": \"\", \"zerolinecolor\": \"white\"}}, \"shapedefaults\": {\"line\": {\"color\": \"#2a3f5f\"}}, \"ternary\": {\"aaxis\": {\"gridcolor\": \"white\", \"linecolor\": \"white\", \"ticks\": \"\"}, \"baxis\": {\"gridcolor\": \"white\", \"linecolor\": \"white\", \"ticks\": \"\"}, \"bgcolor\": \"#E5ECF6\", \"caxis\": {\"gridcolor\": \"white\", \"linecolor\": \"white\", \"ticks\": \"\"}}, \"title\": {\"x\": 0.05}, \"xaxis\": {\"automargin\": true, \"gridcolor\": \"white\", \"linecolor\": \"white\", \"ticks\": \"\", \"title\": {\"standoff\": 15}, \"zerolinecolor\": \"white\", \"zerolinewidth\": 2}, \"yaxis\": {\"automargin\": true, \"gridcolor\": \"white\", \"linecolor\": \"white\", \"ticks\": \"\", \"title\": {\"standoff\": 15}, \"zerolinecolor\": \"white\", \"zerolinewidth\": 2}}}},\n",
       "                        {\"responsive\": true}\n",
       "                    ).then(function(){\n",
       "                            \n",
       "var gd = document.getElementById('5137bb49-cdb6-4d5f-b5d5-cb426ea90952');\n",
       "var x = new MutationObserver(function (mutations, observer) {{\n",
       "        var display = window.getComputedStyle(gd).display;\n",
       "        if (!display || display === 'none') {{\n",
       "            console.log([gd, 'removed!']);\n",
       "            Plotly.purge(gd);\n",
       "            observer.disconnect();\n",
       "        }}\n",
       "}});\n",
       "\n",
       "// Listen for the removal of the full notebook cells\n",
       "var notebookContainer = gd.closest('#notebook-container');\n",
       "if (notebookContainer) {{\n",
       "    x.observe(notebookContainer, {childList: true});\n",
       "}}\n",
       "\n",
       "// Listen for the clearing of the current output cell\n",
       "var outputEl = gd.closest('.output');\n",
       "if (outputEl) {{\n",
       "    x.observe(outputEl, {childList: true});\n",
       "}}\n",
       "\n",
       "                        })\n",
       "                };\n",
       "                });\n",
       "            </script>\n",
       "        </div>"
      ]
     },
     "metadata": {},
     "output_type": "display_data"
    }
   ],
   "source": [
    "#################### PROJECT HOUSE ####################w\n",
    "\n",
    "data = rio.open(path)\n",
    "address_regx = re.compile(\"^([A-z- ]+)\\s(\\d+),\\s(\\d+)\\s([A-z]+)\")\n",
    "result = address_regx.search(address)\n",
    "street = result.group(1)\n",
    "print(street)\n",
    "nb = result.group(2)\n",
    "print(nb)\n",
    "pc = result.group(3)\n",
    "print(pc)\n",
    "city = result.group(4)\n",
    "print(city)\n",
    "\n",
    "req = requests.get(f\"https://api.basisregisters.dev-vlaanderen.be/v1/adresmatch?gemeentenaam={city}&straatnaam={street}&huisnummer={nb}&postcode={pc}\").json()\n",
    "objectId = req[\"adresMatches\"][0][\"adresseerbareObjecten\"][0][\"objectId\"]\n",
    "\n",
    "req = requests.get(f\"https://api.basisregisters.dev-vlaanderen.be/v1/gebouweenheden/{objectId}\").json()\n",
    "objectId = req[\"gebouw\"][\"objectId\"]\n",
    "\n",
    "req = requests.get(f\"https://api.basisregisters.dev-vlaanderen.be/v1/gebouwen/{objectId}\").json()\n",
    "polygon = [req[\"geometriePolygoon\"][\"polygon\"]] \n",
    "print(\"polygon -> \", polygon)\n",
    "        \n",
    "crop_img, crop_transform = mask(dataset=data, shapes=polygon, crop=True, indexes=1, nodata = 0, filled=True)\n",
    "print(\"crop image -> \" , crop_img)\n",
    "\n",
    "fig = go.Figure(data=go.Surface(z=crop_img, colorscale='YlOrRd'))\n",
    "fig.show()\n",
    "\n",
    "\n",
    "\n",
    "\n"
   ]
  },
  {
   "cell_type": "code",
   "execution_count": null,
   "metadata": {},
   "outputs": [],
   "source": []
  },
  {
   "cell_type": "code",
   "execution_count": null,
   "metadata": {},
   "outputs": [],
   "source": []
  },
  {
   "cell_type": "code",
   "execution_count": null,
   "metadata": {},
   "outputs": [],
   "source": []
  },
  {
   "cell_type": "code",
   "execution_count": null,
   "metadata": {},
   "outputs": [],
   "source": []
  },
  {
   "cell_type": "code",
   "execution_count": null,
   "metadata": {},
   "outputs": [],
   "source": []
  },
  {
   "cell_type": "code",
   "execution_count": null,
   "metadata": {},
   "outputs": [],
   "source": []
  },
  {
   "cell_type": "code",
   "execution_count": null,
   "metadata": {},
   "outputs": [],
   "source": []
  },
  {
   "cell_type": "code",
   "execution_count": null,
   "metadata": {},
   "outputs": [],
   "source": []
  },
  {
   "cell_type": "code",
   "execution_count": null,
   "metadata": {},
   "outputs": [],
   "source": []
  }
 ],
 "metadata": {
  "kernelspec": {
   "display_name": "Python 3",
   "language": "python",
   "name": "python3"
  },
  "language_info": {
   "codemirror_mode": {
    "name": "ipython",
    "version": 3
   },
   "file_extension": ".py",
   "mimetype": "text/x-python",
   "name": "python",
   "nbconvert_exporter": "python",
   "pygments_lexer": "ipython3",
   "version": "3.7.7"
  }
 },
 "nbformat": 4,
 "nbformat_minor": 2
}
